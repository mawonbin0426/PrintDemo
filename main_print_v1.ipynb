{
 "cells": [
  {
   "cell_type": "markdown",
   "id": "552a901f",
   "metadata": {},
   "source": [
    "#Print 예제 입니다."
   ]
  },
  {
   "cell_type": "code",
   "execution_count": 2,
   "id": "16fdc703",
   "metadata": {},
   "outputs": [
    {
     "name": "stdout",
     "output_type": "stream",
     "text": [
      "Hello, Python!\n",
      "Name: alice Age: 25 Score: 95.5\n"
     ]
    }
   ],
   "source": [
    "#변수 선언\n",
    "name=\"alice\"\n",
    "age=25\n",
    "score=95.5\n",
    "\n",
    "# 1. 기본 출력\n",
    "print(\"Hello, Python!\")\n",
    "\n",
    "# 2. 여러 값 출력 (콤마로 구분 - 자동 띄어쓰기)\n",
    "print(\"Name:\", name , \"Age:\", age, \"Score:\", score)\n"
   ]
  },
  {
   "cell_type": "code",
   "execution_count": null,
   "id": "8dbc4679",
   "metadata": {},
   "outputs": [],
   "source": []
  }
 ],
 "metadata": {
  "kernelspec": {
   "display_name": ".venv",
   "language": "python",
   "name": "python3"
  },
  "language_info": {
   "codemirror_mode": {
    "name": "ipython",
    "version": 3
   },
   "file_extension": ".py",
   "mimetype": "text/x-python",
   "name": "python",
   "nbconvert_exporter": "python",
   "pygments_lexer": "ipython3",
   "version": "3.13.7"
  }
 },
 "nbformat": 4,
 "nbformat_minor": 5
}
